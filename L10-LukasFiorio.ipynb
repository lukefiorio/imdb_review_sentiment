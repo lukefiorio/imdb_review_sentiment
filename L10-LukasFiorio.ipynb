{
 "cells": [
  {
   "cell_type": "markdown",
   "metadata": {},
   "source": [
    "# UW PCE DS 420- Homework 10\n",
    "## Lukas Fiorio\n",
    "\n",
    "In this homework, we take a sample of the IMDB dataset provided in TensorFlow Datasets to predict positive (1) or negative (0) sentiment. The data comes from http://ai.stanford.edu/~amaas/data/sentiment/ .\n",
    "\n",
    "We start by creating a benchmark model. The benchmark model we create is a rule-based sentiment model, based on the number of positve and negative words in each review.\n",
    "\n",
    "Next, we will make a RNN model. In fact, a nice RNN is made here in the TensorFlow Tutorials:\n",
    "https://www.tensorflow.org/tutorials/text/text_classification_rnn\n",
    "\n",
    "We modify this to align with the Lesson 10 lab to use a simple RNN over a pandas sample.\n",
    "\n",
    "We will have to implement a basic cleaning, tokenizing, and embedding."
   ]
  },
  {
   "cell_type": "code",
   "execution_count": 1,
   "metadata": {},
   "outputs": [],
   "source": [
    "# Load Libraries\n",
    "import os\n",
    "import re\n",
    "import nltk\n",
    "import string\n",
    "import numpy as np\n",
    "import pandas as pd\n",
    "import tensorflow as tf\n",
    "import tensorflow_datasets as tfds\n",
    "from numpy.random import seed\n",
    "\n",
    "from tensorflow.keras.preprocessing.text import Tokenizer\n",
    "from tensorflow.keras.preprocessing.sequence import pad_sequences\n",
    "from tensorflow.keras import layers\n",
    "from tensorflow.keras.layers import Dropout\n",
    "\n",
    "import matplotlib.pyplot as plt\n",
    "import seaborn as sns\n",
    "from matplotlib.ticker import MaxNLocator # integer tick labels\n",
    "\n",
    "from sklearn.model_selection import train_test_split\n",
    "\n",
    "from collections import Counter\n",
    "from nltk.corpus import stopwords\n",
    "from nltk.tokenize import treebank\n",
    "from nltk.corpus import opinion_lexicon\n",
    "from nltk.tokenize import word_tokenize"
   ]
  },
  {
   "cell_type": "markdown",
   "metadata": {},
   "source": [
    "### Here we load the data.\n",
    "\n",
    "The data comes in a nice format for setting up a test-preprocessing pipeline of data in the TF Dataset type.\n",
    "\n",
    "But we want to try to use Pandas, so we'll convert it into a dataframe.\n",
    "\n",
    "First, we load the data into our tf.dataset() objects."
   ]
  },
  {
   "cell_type": "code",
   "execution_count": 2,
   "metadata": {},
   "outputs": [],
   "source": [
    "# Setup the IMDB review data\n",
    "# The IMDB review data contains 25,000 reviews in the train set. And also 25,000 reviews in the test set.\n",
    "\n",
    "dataset, info = tfds.load('imdb_reviews', with_info=True, as_supervised=True)\n",
    "train_dataset, test_dataset = dataset['train'], dataset['test']"
   ]
  },
  {
   "cell_type": "markdown",
   "metadata": {},
   "source": [
    "### Convert / Sample into Pandas.DataFrame\n",
    "\n",
    "Next we'll convert tf objects into pd dataframes (for the train and test set).  To expedite computations, we'll sample only a subset of the full datasets."
   ]
  },
  {
   "cell_type": "code",
   "execution_count": 3,
   "metadata": {},
   "outputs": [],
   "source": [
    "# We can take up to 25,000 of each. take subset to speed calculations.\n",
    "train_count = 5000\n",
    "test_count = 1000\n",
    "\n",
    "# Setup Train DF\n",
    "train_df = pd.DataFrame(columns=['review', 'label'])\n",
    "for review, label in train_dataset.take(train_count):\n",
    "    train_df = train_df.append({'review': review.numpy(), 'label': label.numpy()}, ignore_index=True)\n",
    "\n",
    "# Setup Teset DF\n",
    "test_df = pd.DataFrame(columns=['review', 'label'])\n",
    "for review, label in test_dataset.take(test_count):\n",
    "    test_df = test_df.append({'review': review.numpy(), 'label': label.numpy()}, ignore_index=True)\n",
    "\n",
    "# Change to strings from the 'b' - binary columns\n",
    "train_df['review'] = train_df['review'].str.decode(\"utf-8\")\n",
    "test_df['review'] = test_df['review'].str.decode(\"utf-8\")  "
   ]
  },
  {
   "cell_type": "markdown",
   "metadata": {},
   "source": [
    "Let's verify the output is as we expect (size and preview) - looks good."
   ]
  },
  {
   "cell_type": "code",
   "execution_count": 4,
   "metadata": {},
   "outputs": [
    {
     "name": "stdout",
     "output_type": "stream",
     "text": [
      "Train shape: (5000, 2)\n",
      "Test shape: (1000, 2)\n"
     ]
    },
    {
     "data": {
      "text/html": [
       "<div>\n",
       "<style scoped>\n",
       "    .dataframe tbody tr th:only-of-type {\n",
       "        vertical-align: middle;\n",
       "    }\n",
       "\n",
       "    .dataframe tbody tr th {\n",
       "        vertical-align: top;\n",
       "    }\n",
       "\n",
       "    .dataframe thead th {\n",
       "        text-align: right;\n",
       "    }\n",
       "</style>\n",
       "<table border=\"1\" class=\"dataframe\">\n",
       "  <thead>\n",
       "    <tr style=\"text-align: right;\">\n",
       "      <th></th>\n",
       "      <th>review</th>\n",
       "      <th>label</th>\n",
       "    </tr>\n",
       "  </thead>\n",
       "  <tbody>\n",
       "    <tr>\n",
       "      <th>0</th>\n",
       "      <td>This was an absolutely terrible movie. Don't be lured in by Christopher Walken or Michael Ironside. Both are great actors, but this must simply be their worst role in history. Even their great acting could not redeem this movie's ridiculous storyline. This movie is an early nineties US propaganda piece. The most pathetic scenes were those when the Columbian rebels were making their cases for revolutions. Maria Conchita Alonso appeared phony, and her pseudo-love affair with Walken was nothing but a pathetic emotional plug in a movie that was devoid of any real meaning. I am disappointed that there are movies like this, ruining actor's like Christopher Walken's good name. I could barely sit through it.</td>\n",
       "      <td>0</td>\n",
       "    </tr>\n",
       "    <tr>\n",
       "      <th>1</th>\n",
       "      <td>I have been known to fall asleep during films, but this is usually due to a combination of things including, really tired, being warm and comfortable on the sette and having just eaten a lot. However on this occasion I fell asleep because the film was rubbish. The plot development was constant. Constantly slow and boring. Things seemed to happen, but with no explanation of what was causing them or why. I admit, I may have missed part of the film, but i watched the majority of it and everything just seemed to happen of its own accord without any real concern for anything else. I cant recommend this film at all.</td>\n",
       "      <td>0</td>\n",
       "    </tr>\n",
       "    <tr>\n",
       "      <th>2</th>\n",
       "      <td>Mann photographs the Alberta Rocky Mountains in a superb fashion, and Jimmy Stewart and Walter Brennan give enjoyable performances as they always seem to do. &lt;br /&gt;&lt;br /&gt;But come on Hollywood - a Mountie telling the people of Dawson City, Yukon to elect themselves a marshal (yes a marshal!) and to enforce the law themselves, then gunfighters battling it out on the streets for control of the town? &lt;br /&gt;&lt;br /&gt;Nothing even remotely resembling that happened on the Canadian side of the border during the Klondike gold rush. Mr. Mann and company appear to have mistaken Dawson City for Deadwood, the Canadian North for the American Wild West.&lt;br /&gt;&lt;br /&gt;Canadian viewers be prepared for a Reefer Madness type of enjoyable howl with this ludicrous plot, or, to shake your head in disgust.</td>\n",
       "      <td>0</td>\n",
       "    </tr>\n",
       "    <tr>\n",
       "      <th>3</th>\n",
       "      <td>This is the kind of film for a snowy Sunday afternoon when the rest of the world can go ahead with its own business as you descend into a big arm-chair and mellow for a couple of hours. Wonderful performances from Cher and Nicolas Cage (as always) gently row the plot along. There are no rapids to cross, no dangerous waters, just a warm and witty paddle through New York life at its best. A family film in every sense and one that deserves the praise it received.</td>\n",
       "      <td>1</td>\n",
       "    </tr>\n",
       "  </tbody>\n",
       "</table>\n",
       "</div>"
      ],
      "text/plain": [
       "                                                                                                                                                                                                                                                                                                                                                                                                                                                                                                                                                                                                                                                                                                                                                                                                                review  \\\n",
       "0                                                                                This was an absolutely terrible movie. Don't be lured in by Christopher Walken or Michael Ironside. Both are great actors, but this must simply be their worst role in history. Even their great acting could not redeem this movie's ridiculous storyline. This movie is an early nineties US propaganda piece. The most pathetic scenes were those when the Columbian rebels were making their cases for revolutions. Maria Conchita Alonso appeared phony, and her pseudo-love affair with Walken was nothing but a pathetic emotional plug in a movie that was devoid of any real meaning. I am disappointed that there are movies like this, ruining actor's like Christopher Walken's good name. I could barely sit through it.   \n",
       "1                                                                                                                                                                            I have been known to fall asleep during films, but this is usually due to a combination of things including, really tired, being warm and comfortable on the sette and having just eaten a lot. However on this occasion I fell asleep because the film was rubbish. The plot development was constant. Constantly slow and boring. Things seemed to happen, but with no explanation of what was causing them or why. I admit, I may have missed part of the film, but i watched the majority of it and everything just seemed to happen of its own accord without any real concern for anything else. I cant recommend this film at all.   \n",
       "2  Mann photographs the Alberta Rocky Mountains in a superb fashion, and Jimmy Stewart and Walter Brennan give enjoyable performances as they always seem to do. <br /><br />But come on Hollywood - a Mountie telling the people of Dawson City, Yukon to elect themselves a marshal (yes a marshal!) and to enforce the law themselves, then gunfighters battling it out on the streets for control of the town? <br /><br />Nothing even remotely resembling that happened on the Canadian side of the border during the Klondike gold rush. Mr. Mann and company appear to have mistaken Dawson City for Deadwood, the Canadian North for the American Wild West.<br /><br />Canadian viewers be prepared for a Reefer Madness type of enjoyable howl with this ludicrous plot, or, to shake your head in disgust.   \n",
       "3                                                                                                                                                                                                                                                                                                                                     This is the kind of film for a snowy Sunday afternoon when the rest of the world can go ahead with its own business as you descend into a big arm-chair and mellow for a couple of hours. Wonderful performances from Cher and Nicolas Cage (as always) gently row the plot along. There are no rapids to cross, no dangerous waters, just a warm and witty paddle through New York life at its best. A family film in every sense and one that deserves the praise it received.   \n",
       "\n",
       "  label  \n",
       "0     0  \n",
       "1     0  \n",
       "2     0  \n",
       "3     1  "
      ]
     },
     "execution_count": 4,
     "metadata": {},
     "output_type": "execute_result"
    }
   ],
   "source": [
    "# Check size and examples\n",
    "print('Train shape: {}'.format(train_df.shape))\n",
    "print('Test shape: {}'.format(test_df.shape))\n",
    "pd.options.display.max_colwidth = None # show full review\n",
    "train_df.head(n=4) # row 5 not SFW"
   ]
  },
  {
   "cell_type": "markdown",
   "metadata": {},
   "source": [
    "### Check for target imbalance problems.\n",
    "\n",
    "Next we check for the balance/makeup of the target values to see if there exists any imbalance.  Our subsets appear to be balanced."
   ]
  },
  {
   "cell_type": "code",
   "execution_count": 5,
   "metadata": {},
   "outputs": [
    {
     "name": "stdout",
     "output_type": "stream",
     "text": [
      "1    2526\n",
      "0    2474\n",
      "Name: label, dtype: int64\n",
      "0    503\n",
      "1    497\n",
      "Name: label, dtype: int64\n"
     ]
    }
   ],
   "source": [
    "# Check target imbalance. No issues.\n",
    "print(train_df['label'].value_counts())\n",
    "print(test_df['label'].value_counts())"
   ]
  },
  {
   "cell_type": "markdown",
   "metadata": {},
   "source": [
    "Before we go any further, we'll set random seeds for replicability."
   ]
  },
  {
   "cell_type": "code",
   "execution_count": 6,
   "metadata": {},
   "outputs": [],
   "source": [
    "random_state = 99\n",
    "\n",
    "# set seeds\n",
    "seed(random_state)\n",
    "tf.random.set_seed(random_state)"
   ]
  },
  {
   "cell_type": "markdown",
   "metadata": {},
   "source": [
    "### Now we split the sets into train-validation-test\n",
    "\n",
    "The data is already split into train-test. To make a validation set, we'll just the test set in half."
   ]
  },
  {
   "cell_type": "code",
   "execution_count": 7,
   "metadata": {},
   "outputs": [],
   "source": [
    "# Split into train-validation-test by taking half of the test set into validation\n",
    "test_df, valid_df = train_test_split(test_df, test_size = 0.5, random_state = random_state)\n",
    "test_df = test_df.reset_index(drop=True)\n",
    "valid_df = valid_df.reset_index(drop=True)"
   ]
  },
  {
   "cell_type": "markdown",
   "metadata": {},
   "source": [
    "Let's also preview the test set just to make sure it looks as expected (it does)."
   ]
  },
  {
   "cell_type": "code",
   "execution_count": 8,
   "metadata": {},
   "outputs": [
    {
     "name": "stdout",
     "output_type": "stream",
     "text": [
      "Test shape: (500, 2)\n",
      "Valid shape: (500, 2)\n"
     ]
    },
    {
     "data": {
      "text/html": [
       "<div>\n",
       "<style scoped>\n",
       "    .dataframe tbody tr th:only-of-type {\n",
       "        vertical-align: middle;\n",
       "    }\n",
       "\n",
       "    .dataframe tbody tr th {\n",
       "        vertical-align: top;\n",
       "    }\n",
       "\n",
       "    .dataframe thead th {\n",
       "        text-align: right;\n",
       "    }\n",
       "</style>\n",
       "<table border=\"1\" class=\"dataframe\">\n",
       "  <thead>\n",
       "    <tr style=\"text-align: right;\">\n",
       "      <th></th>\n",
       "      <th>review</th>\n",
       "      <th>label</th>\n",
       "    </tr>\n",
       "  </thead>\n",
       "  <tbody>\n",
       "    <tr>\n",
       "      <th>0</th>\n",
       "      <td>I only saw the first part of this and concluded that I wouldn't miss anything if I didn't watch the second episode. The cinematography was OK, but apart from this, the plot was just as commonorgarden and run-of-the-mill as any other war story. The actors and actresses play their characters without any passion, and the make up is really bad (Heiner Lauterbach with his white hair and Kai Wiesinger respectively, as if some dyed white hair could give them more dignity and common sense). I mean if you've watched more than two or three movies about WWII (as most of us have) then you'd only go to the trouble of seeing a third or fourth one if it promises some new insights or twists in the plot. But Roland Suso Richter seems to afraid of doing so, you can almost smell his fear of not living up to the bourgeois and jejune expectations of the conservative ZDF TV channel while watching this movie. Millions of Euros were spent to perpetuate boring and unimaginative German film-making. These millions of dollars could have been spent to make three or four independent movies, but no, let's give to some director who'll make a film that tells people that war can be explained by rational means. My advice: Read Joseph Heller or Kurt Vonnegut instead. They'll tell you what war is like! Or give me one million Euros and I make a better film than this load of BS! And another thing: Why is it that German movies only get to be nominated for the Oscars when the movie deals with WWII or the Holocaust? Probably because that is the only thing German film-making is good at. And that should get us thinking, shouldn't it?</td>\n",
       "      <td>0</td>\n",
       "    </tr>\n",
       "    <tr>\n",
       "      <th>1</th>\n",
       "      <td>Being a self confessed slasher addict means that it's very rare that I get the chance to review many bigger budgeted movies with creditable casts. Aside from James Mangold's successful box office draw Identity; there have not been any big name entries since the Scream trilogy once again put Wes Craven's name back on the Hollywood map. That's why Mark Malone's The Last Stop  a mystery thriller with blatant slasher overtones, instantly intrigued me. With a decent line-up including Adam Beach and Jurgen Prochnow and an intriguing soundtrack that even finds space for Lynn Anderson's Rose Garden, I must admit that the initial signs were very positive for this claustrophobic feature. To the best of my knowledge there have only ever been three other snow-bound slashers, unless of course you consider Demon Possessed to fit in the category. The first slice and dice on the ice was the bone-dry Satan's Blade, then came the Lisa Loring cheese-feast that was Blizzard of Blood and the enjoyable Shredder followed some fourteen years later.&lt;br /&gt;&lt;br /&gt;During an extreme blizzard, state trooper Jason (Adam Beach) battles through the snow to reach a remote lodge in the Colorado Mountains. His task is to inform the guests that the road is closed and they must stay for at least one more night until a path can be cleared through the hazardous conditions. This news doesn't go down to well with the suspicious bunch, which includes two troublemaking brothers (Callum Keith Rennie and Peter Flemming), a truck driver that really doesn't want to hang around (William S. Taylor), a randy couple of lovers (Winston Rekert and Amy Adamson) and Jason's ex-girlfriend Nancy (Rose McGowan). The motel owners (Jurgen Prochnow and P. Lynn Johnson) aren't overjoyed by the news either, but they offer rooms to the stranded guests and attempt to calm the tense situation. Things take a turn for the worse when Jason finds a mutilated body and a bag full of stolen cash lying in the snow behind the cafe. Just like a chapter out of an Agatha Christie mystery, the lodgers begin dieing at the hands of a masked assailant that seems intent to re-claim the money. With so many dodgy characters to choose from and no way of leaving the crime scene, Jason has to attempt to stop the maniac before he kills again",
       " &lt;br /&gt;&lt;br /&gt;A good mystery needs at least a handful of shady suspects who each have a credible motive, a remote location that no one can escape from and a smart protagonist to help unravel the clues. Fortunately The Last Stop provides each of those essential ingredients in a thriller that has its equal moments of brilliance and downright stupidity. The film kicks off superbly as the dubious personalities clash in a claustrophobic environment that manages to keep the tension running high throughout the runtime. Malone keeps the interest levels raised as each character unveils their own reasons to attract some of the suspicion, and to be fair the essential twist isn't one that you'll guess easily. In fact I found myself watching the movie through once again to see if I could pick up on any hints that I missed first time around. Unfortunately when the maniac is revealed to be an over the top psycho that wisecracks like a comic book bad guy, The Last Stop forfeits a huge amount of credibility. Thankfully all is not lost when an unexpected and brilliantly orchestrated plot twist salvages the film's finale.&lt;br /&gt;&lt;br /&gt;Similarities can be drawn with the excellent Identity, as the two plots are almost interchangeable. James Mangold's effort has to be the better of the two mainly because of the star billing of John Cusack and the ever-reliable Ray Liotta. With that said though Adam Beach does a good enough job in the lead, while Jurgen Prochnow, Amy Adamson and the brilliant Callum Keith Rennie add some credible support. Rose McGowan acts as conceitedly in this role as she probably does from day to day in reality and Winston Rekert started fantastically before going completely overboard with the film's climax. If you're a die-hard slasher fan that's watching this for some bloody killings then you're going to be disappointed. The balaclava-wearing psychopath only pops up once and the rest of the murders are committed off-screen. But as I said earlier Malone's directorial talent means that the suspense is never too far off the boil and you can forgive the few flaws because the positives just about triumph.&lt;br /&gt;&lt;br /&gt;The Last Stop is well worth a look for slasher addicts and movie fans alike. Yes there are a handful of negatives, but overall this is a solid example of emerging Hollywood talents. If you liked Identity then certainly give this a try</td>\n",
       "      <td>1</td>\n",
       "    </tr>\n",
       "  </tbody>\n",
       "</table>\n",
       "</div>"
      ],
      "text/plain": [
       "                                                                                                                                                                                                                                                                                                                                                                                                                                                                                                                                                                                                                                                                                                                                                                                                                                                                                                                                                                                                                                                                                                                                                                                                                                                                                                                                                                                                                                                                                                                                                                                                                                                                                                                                                                                                                                                                                                                                                                                                                                                                                                                                                                                                                                                                                                                                                                                                                                                                                                                                                                                                                                                                                                                                                                                                                                                                                                                                                                                                                                                                                                                                                                                                                                                                                                                                                                                                                                                                                                                                                                                                                                                                                                                                                                                                                                                                                                                                                                                                                                                                                                                                                                                                                                                                                                                                                                                                                                                                                                                                                                                                                                                                                                                                                                                                                                                               review  \\\n",
       "0                                                                                                                                                                                                                                                                                                                                                                                                                                                                                                                                                                                                                                                                                                                                                                                                                                                                                                                                                                                                                                                                                                                                                                                                                                                                                                                                                                                                                                                                                                                                                                                                                                                                                                                                                                                                                                                                                                                                                                                                                                                                                                                                                                                                                                                                                                                                                                                                                                                                                                                                                                                                                                                                                                                                                                                                                                                                                                                                                                                                                                                                                                                                                                                   I only saw the first part of this and concluded that I wouldn't miss anything if I didn't watch the second episode. The cinematography was OK, but apart from this, the plot was just as commonorgarden and run-of-the-mill as any other war story. The actors and actresses play their characters without any passion, and the make up is really bad (Heiner Lauterbach with his white hair and Kai Wiesinger respectively, as if some dyed white hair could give them more dignity and common sense). I mean if you've watched more than two or three movies about WWII (as most of us have) then you'd only go to the trouble of seeing a third or fourth one if it promises some new insights or twists in the plot. But Roland Suso Richter seems to afraid of doing so, you can almost smell his fear of not living up to the bourgeois and jejune expectations of the conservative ZDF TV channel while watching this movie. Millions of Euros were spent to perpetuate boring and unimaginative German film-making. These millions of dollars could have been spent to make three or four independent movies, but no, let's give to some director who'll make a film that tells people that war can be explained by rational means. My advice: Read Joseph Heller or Kurt Vonnegut instead. They'll tell you what war is like! Or give me one million Euros and I make a better film than this load of BS! And another thing: Why is it that German movies only get to be nominated for the Oscars when the movie deals with WWII or the Holocaust? Probably because that is the only thing German film-making is good at. And that should get us thinking, shouldn't it?   \n",
       "1  Being a self confessed slasher addict means that it's very rare that I get the chance to review many bigger budgeted movies with creditable casts. Aside from James Mangold's successful box office draw Identity; there have not been any big name entries since the Scream trilogy once again put Wes Craven's name back on the Hollywood map. That's why Mark Malone's The Last Stop  a mystery thriller with blatant slasher overtones, instantly intrigued me. With a decent line-up including Adam Beach and Jurgen Prochnow and an intriguing soundtrack that even finds space for Lynn Anderson's Rose Garden, I must admit that the initial signs were very positive for this claustrophobic feature. To the best of my knowledge there have only ever been three other snow-bound slashers, unless of course you consider Demon Possessed to fit in the category. The first slice and dice on the ice was the bone-dry Satan's Blade, then came the Lisa Loring cheese-feast that was Blizzard of Blood and the enjoyable Shredder followed some fourteen years later.<br /><br />During an extreme blizzard, state trooper Jason (Adam Beach) battles through the snow to reach a remote lodge in the Colorado Mountains. His task is to inform the guests that the road is closed and they must stay for at least one more night until a path can be cleared through the hazardous conditions. This news doesn't go down to well with the suspicious bunch, which includes two troublemaking brothers (Callum Keith Rennie and Peter Flemming), a truck driver that really doesn't want to hang around (William S. Taylor), a randy couple of lovers (Winston Rekert and Amy Adamson) and Jason's ex-girlfriend Nancy (Rose McGowan). The motel owners (Jurgen Prochnow and P. Lynn Johnson) aren't overjoyed by the news either, but they offer rooms to the stranded guests and attempt to calm the tense situation. Things take a turn for the worse when Jason finds a mutilated body and a bag full of stolen cash lying in the snow behind the cafe. Just like a chapter out of an Agatha Christie mystery, the lodgers begin dieing at the hands of a masked assailant that seems intent to re-claim the money. With so many dodgy characters to choose from and no way of leaving the crime scene, Jason has to attempt to stop the maniac before he kills again\n",
       " <br /><br />A good mystery needs at least a handful of shady suspects who each have a credible motive, a remote location that no one can escape from and a smart protagonist to help unravel the clues. Fortunately The Last Stop provides each of those essential ingredients in a thriller that has its equal moments of brilliance and downright stupidity. The film kicks off superbly as the dubious personalities clash in a claustrophobic environment that manages to keep the tension running high throughout the runtime. Malone keeps the interest levels raised as each character unveils their own reasons to attract some of the suspicion, and to be fair the essential twist isn't one that you'll guess easily. In fact I found myself watching the movie through once again to see if I could pick up on any hints that I missed first time around. Unfortunately when the maniac is revealed to be an over the top psycho that wisecracks like a comic book bad guy, The Last Stop forfeits a huge amount of credibility. Thankfully all is not lost when an unexpected and brilliantly orchestrated plot twist salvages the film's finale.<br /><br />Similarities can be drawn with the excellent Identity, as the two plots are almost interchangeable. James Mangold's effort has to be the better of the two mainly because of the star billing of John Cusack and the ever-reliable Ray Liotta. With that said though Adam Beach does a good enough job in the lead, while Jurgen Prochnow, Amy Adamson and the brilliant Callum Keith Rennie add some credible support. Rose McGowan acts as conceitedly in this role as she probably does from day to day in reality and Winston Rekert started fantastically before going completely overboard with the film's climax. If you're a die-hard slasher fan that's watching this for some bloody killings then you're going to be disappointed. The balaclava-wearing psychopath only pops up once and the rest of the murders are committed off-screen. But as I said earlier Malone's directorial talent means that the suspense is never too far off the boil and you can forgive the few flaws because the positives just about triumph.<br /><br />The Last Stop is well worth a look for slasher addicts and movie fans alike. Yes there are a handful of negatives, but overall this is a solid example of emerging Hollywood talents. If you liked Identity then certainly give this a try\n",
       "   \n",
       "\n",
       "  label  \n",
       "0     0  \n",
       "1     1  "
      ]
     },
     "execution_count": 8,
     "metadata": {},
     "output_type": "execute_result"
    }
   ],
   "source": [
    "# check dimensions & preview test set\n",
    "print('Test shape: {}'.format(test_df.shape))\n",
    "print('Valid shape: {}'.format(valid_df.shape))\n",
    "test_df.head(n=2) # very long reviews!"
   ]
  },
  {
   "cell_type": "markdown",
   "metadata": {},
   "source": [
    "### Clean the text\n",
    "\n",
    "We will clean the text by defining a function to apply these processing steps:\n",
    "\n",
    "- lowercase the text\n",
    "- remove ascii characters\n",
    "- process the punctuation\n",
    "- remove digits\n",
    "- remove filler (\"stop\") words\n",
    "- remove the extra whitespace\n",
    "\n",
    "From our example reviews above, we saw that each of the above issues would need to be handled.\n",
    "\n",
    "Note that order matters as each step depends on the input from the prior step.  We first import nltk dictionaries to assist with our pre-procesing.\n",
    "\n",
    "First, let's download stopwords and an opinion lexicon from nltk.  These will be used in our rule based benchmark."
   ]
  },
  {
   "cell_type": "code",
   "execution_count": 9,
   "metadata": {},
   "outputs": [
    {
     "name": "stderr",
     "output_type": "stream",
     "text": [
      "[nltk_data] Downloading package opinion_lexicon to\n",
      "[nltk_data]     /Users/lukefiorio/nltk_data...\n",
      "[nltk_data]   Package opinion_lexicon is already up-to-date!\n",
      "[nltk_data] Downloading package stopwords to\n",
      "[nltk_data]     /Users/lukefiorio/nltk_data...\n",
      "[nltk_data]   Package stopwords is already up-to-date!\n"
     ]
    }
   ],
   "source": [
    "nltk.download('opinion_lexicon')\n",
    "nltk.download('stopwords')\n",
    "\n",
    "# store stop words\n",
    "stop = stopwords.words('english') "
   ]
  },
  {
   "cell_type": "markdown",
   "metadata": {},
   "source": [
    "And now we define a function to apply the processing steps we listed above."
   ]
  },
  {
   "cell_type": "code",
   "execution_count": 10,
   "metadata": {},
   "outputs": [],
   "source": [
    "def clean_text(raw_text, omit_stop = True):\n",
    "\n",
    "    # set all lower case\n",
    "    clean_text = raw_text.str.lower()\n",
    "    \n",
    "    # remove ascii\n",
    "    clean_text = clean_text.apply(lambda x: re.sub(r'[^\\x00-\\x7f]', r'', str(x)))\n",
    "    \n",
    "    # remove punctuation\n",
    "    clean_text = clean_text.str.translate(str.maketrans('', '', string.punctuation))\n",
    "    \n",
    "    # remove digits\n",
    "    clean_text = clean_text.apply(lambda x: re.sub(r'[\\d]', r'', str(x)))\n",
    "    \n",
    "    # remove filler words (if specified)\n",
    "    if omit_stop == True:\n",
    "        clean_text = clean_text.apply(lambda x: ' '.join([s for s in x.split() if s not in stop]))\n",
    "    \n",
    "    # remove extra white space\n",
    "    clean_text = clean_text.apply(lambda x: ' '.join(s for s in x.split()))\n",
    "\n",
    "    return clean_text"
   ]
  },
  {
   "cell_type": "markdown",
   "metadata": {},
   "source": [
    "And now apply that text processing to our train, validation, and test datasets.  Then we preview the cleaned training data."
   ]
  },
  {
   "cell_type": "code",
   "execution_count": 11,
   "metadata": {},
   "outputs": [
    {
     "data": {
      "text/plain": [
       "0                                                           absolutely terrible movie dont lured christopher walken michael ironside great actors must simply worst role history even great acting could redeem movies ridiculous storyline movie early nineties us propaganda piece pathetic scenes columbian rebels making cases revolutions maria conchita alonso appeared phony pseudolove affair walken nothing pathetic emotional plug movie devoid real meaning disappointed movies like ruining actors like christopher walkens good name could barely sit\n",
       "1                                                                                                                                                                            known fall asleep films usually due combination things including really tired warm comfortable sette eaten lot however occasion fell asleep film rubbish plot development constant constantly slow boring things seemed happen explanation causing admit may missed part film watched majority everything seemed happen accord without real concern anything else cant recommend film\n",
       "2    mann photographs alberta rocky mountains superb fashion jimmy stewart walter brennan give enjoyable performances always seem br br come hollywood mountie telling people dawson city yukon elect marshal yes marshal enforce law gunfighters battling streets control town br br nothing even remotely resembling happened canadian side border klondike gold rush mr mann company appear mistaken dawson city deadwood canadian north american wild westbr br canadian viewers prepared reefer madness type enjoyable howl ludicrous plot shake head disgust\n",
       "3                                                                                                                                                                                                                                                             kind film snowy sunday afternoon rest world go ahead business descend big armchair mellow couple hours wonderful performances cher nicolas cage always gently row plot along rapids cross dangerous waters warm witty paddle new york life best family film every sense one deserves praise received\n",
       "Name: review, dtype: object"
      ]
     },
     "execution_count": 11,
     "metadata": {},
     "output_type": "execute_result"
    }
   ],
   "source": [
    "# apply text processing\n",
    "X_train_rule = clean_text(train_df['review'], omit_stop = True)\n",
    "X_valid_rule = clean_text(valid_df['review'], omit_stop = True)\n",
    "X_test_rule = clean_text(test_df['review'], omit_stop = True)\n",
    "\n",
    "# preview clean text\n",
    "X_train_rule.head(n=4)"
   ]
  },
  {
   "cell_type": "markdown",
   "metadata": {},
   "source": [
    "Now we'll set aside our target values as well."
   ]
  },
  {
   "cell_type": "code",
   "execution_count": 12,
   "metadata": {},
   "outputs": [],
   "source": [
    "# store y in array\n",
    "y_train_rule = np.asarray(train_df['label']).astype('float32')\n",
    "y_valid_rule = np.asarray(valid_df['label']).astype('float32')\n",
    "y_test_rule = np.asarray(test_df['label']).astype('float32')"
   ]
  },
  {
   "cell_type": "markdown",
   "metadata": {},
   "source": [
    "### Create a rule-based benchmark\n",
    "\n",
    "We earlier downloaded nltk's sentiment library.  Here we store those words in separate sets (for positive, negative connotation).\n",
    "\n",
    "Then we define a function that returns the net score of cnt(positive words) minus cnt(negative words) in a string."
   ]
  },
  {
   "cell_type": "code",
   "execution_count": 13,
   "metadata": {},
   "outputs": [],
   "source": [
    "# store nltk lexicon/dictionary\n",
    "pos_set = set(opinion_lexicon.positive())\n",
    "neg_set = set(opinion_lexicon.negative())\n",
    "\n",
    "# define function to score a string based on # of positive/negative words\n",
    "def sentiment_base(my_string):\n",
    "    # Get words\n",
    "    words = [w for w in word_tokenize(my_string)]\n",
    "    # Get + and - scores:\n",
    "    pos_score = sum([1 if w in pos_set else 0 for w in words])\n",
    "    neg_score = sum([1 if w in neg_set else 0 for w in words])\n",
    "    return pos_score - neg_score"
   ]
  },
  {
   "cell_type": "markdown",
   "metadata": {},
   "source": [
    "Apply our sentiment scoring function to the train, validation, and test datasets to obtain an overall sentiment score for each review."
   ]
  },
  {
   "cell_type": "code",
   "execution_count": 14,
   "metadata": {},
   "outputs": [],
   "source": [
    "# May take some time (~10-15 seconds)\n",
    "y_train_rule_score = X_train_rule.apply(sentiment_base)\n",
    "y_valid_rule_score = X_valid_rule.apply(sentiment_base)\n",
    "y_test_rule_score = X_test_rule.apply(sentiment_base)"
   ]
  },
  {
   "cell_type": "markdown",
   "metadata": {},
   "source": [
    "Finally, we convert those scores into a simple (0, 1) mapping and compare our predictions (based on our sentiment scores) to the actual labels.\n",
    "\n",
    "Note that we predict ties (net score = 0) to be negative reviews.  We make this choice based on higher train set accuracy than predicting ties as positive. \n",
    "\n",
    "We obtain overall accuracy of ~73% on our train and validation sets and 70% on our test set.  Not bad!"
   ]
  },
  {
   "cell_type": "code",
   "execution_count": 15,
   "metadata": {
    "scrolled": true
   },
   "outputs": [
    {
     "name": "stdout",
     "output_type": "stream",
     "text": [
      "Accuracy -      train set: 0.733\n",
      "Accuracy - validation set: 0.73\n",
      "Accuracy -       test set: 0.698\n"
     ]
    }
   ],
   "source": [
    "# convert scores to predictions. (subtract -0.1 to treat ties as negative)\n",
    "y_train_hat = np.sign(y_train_rule_score - 0.1).map({-1:0, 1:1})\n",
    "y_valid_hat = np.sign(y_valid_rule_score - 0.1).map({-1:0, 1:1})\n",
    "y_test_hat = np.sign(y_test_rule_score - 0.1).map({-1:0, 1:1})\n",
    "\n",
    "# calculate accuracy\n",
    "train_acc_rule = (y_train_hat == y_train_rule).astype('int')\n",
    "valid_acc_rule = (y_valid_hat == y_valid_rule).astype('int')\n",
    "test_acc_rule  = (y_test_hat  == y_test_rule).astype('int')\n",
    "\n",
    "# print results\n",
    "print('Accuracy -      train set:', round(train_acc_rule.mean(), 3))\n",
    "print('Accuracy - validation set:', round(valid_acc_rule.mean(), 3))\n",
    "print('Accuracy -       test set:', round(test_acc_rule.mean(), 3))"
   ]
  },
  {
   "cell_type": "markdown",
   "metadata": {},
   "source": [
    "## RNN\n",
    "\n",
    "Now that we have our benchmark, let's trying build a recurrent neural network (RNN) model.\n",
    "\n",
    "We'll start by re-cleaning our data, but this time leaving in stop words (rather than omitting them).  Given the sequential approach of RNN, keeping those stop words will help the model learn important ordering relationships."
   ]
  },
  {
   "cell_type": "code",
   "execution_count": 16,
   "metadata": {},
   "outputs": [],
   "source": [
    "# apply text processing\n",
    "X_train_rnn = clean_text(train_df['review'], omit_stop = False)\n",
    "X_valid_rnn = clean_text(valid_df['review'], omit_stop = False)\n",
    "X_test_rnn = clean_text(test_df['review'], omit_stop = False)\n",
    "\n",
    "# store target in separate array\n",
    "y_train_rnn = np.asarray(train_df['label']).astype('float32')\n",
    "y_valid_rnn = np.asarray(valid_df['label']).astype('float32')\n",
    "y_test_rnn = np.asarray(test_df['label']).astype('float32')"
   ]
  },
  {
   "cell_type": "markdown",
   "metadata": {},
   "source": [
    "Let's preview our cleaned train data.  We can see the inclusion of the stop words here (along with the removal of punctuation, lower-casing, etc.)."
   ]
  },
  {
   "cell_type": "code",
   "execution_count": 17,
   "metadata": {},
   "outputs": [
    {
     "data": {
      "text/plain": [
       "0    this was an absolutely terrible movie dont be lured in by christopher walken or michael ironside both are great actors but this must simply be their worst role in history even their great acting could not redeem this movies ridiculous storyline this movie is an early nineties us propaganda piece the most pathetic scenes were those when the columbian rebels were making their cases for revolutions maria conchita alonso appeared phony and her pseudolove affair with walken was nothing but a pathetic emotional plug in a movie that was devoid of any real meaning i am disappointed that there are movies like this ruining actors like christopher walkens good name i could barely sit through it\n",
       "1                                                                                            i have been known to fall asleep during films but this is usually due to a combination of things including really tired being warm and comfortable on the sette and having just eaten a lot however on this occasion i fell asleep because the film was rubbish the plot development was constant constantly slow and boring things seemed to happen but with no explanation of what was causing them or why i admit i may have missed part of the film but i watched the majority of it and everything just seemed to happen of its own accord without any real concern for anything else i cant recommend this film at all\n",
       "Name: review, dtype: object"
      ]
     },
     "execution_count": 17,
     "metadata": {},
     "output_type": "execute_result"
    }
   ],
   "source": [
    "X_train_rnn.head(n=2)"
   ]
  },
  {
   "cell_type": "markdown",
   "metadata": {},
   "source": [
    "### Data Exploration\n",
    "\n",
    "Next we'll examine our cleaned data to determine where to set thresholds on dictionary size and review length.\n",
    "\n",
    "We'll start by looking into review length to determine where to cap our sequence length."
   ]
  },
  {
   "cell_type": "code",
   "execution_count": 18,
   "metadata": {},
   "outputs": [],
   "source": [
    "# count the nbr of chars/words in each review\n",
    "review_len_char = X_train_rnn.str.len()\n",
    "review_len_word = X_train_rnn.apply(lambda x: len(x.split(' ')))"
   ]
  },
  {
   "cell_type": "markdown",
   "metadata": {},
   "source": [
    "To get a high level understanding of the sequence lengths, let's plot the distribution of each (character count and word count)."
   ]
  },
  {
   "cell_type": "code",
   "execution_count": 19,
   "metadata": {},
   "outputs": [
    {
     "data": {
      "image/png": "[encoded data removed]",
      "text/plain": [
       "<Figure size 1152x288 with 2 Axes>"
      ]
     },
     "metadata": {
      "needs_background": "light"
     },
     "output_type": "display_data"
    }
   ],
   "source": [
    "# set figure, axis properties\n",
    "fig, ax = plt.subplots(ncols = 2, nrows = 1)\n",
    "fig.set_size_inches(16, 4)\n",
    "fig.tight_layout(h_pad = 6, w_pad = 12)\n",
    "    \n",
    "sns.distplot(review_len_char, ax = ax[0]);\n",
    "ax[0].title.set_text('Review Length, character count');\n",
    "ax[0].set_xlabel('# Characters');\n",
    "\n",
    "sns.distplot(review_len_word, ax = ax[1]);\n",
    "ax[0].title.set_text('Review Length, word count');\n",
    "ax[0].set_xlabel('# Words');"
   ]
  },
  {
   "cell_type": "markdown",
   "metadata": {},
   "source": [
    "We'll also take a more direct look at the # of words in each review.  Realistically we wouldn't build our rnn to sequentially loop through characters (we'll build it based on the **words** each review contains).\n",
    "\n",
    "We see that 90% of reviews have more than 100 words and then a huge drop-off after that (only 40% with more than 200 words).  Based on this, we'll start off by setting our sequence length at 100.\n",
    "\n",
    "We'll zero-pad any reviews shorter thann that, and truncate any reviews that go longer.  We can revisit this decision if our model isn't learning well."
   ]
  },
  {
   "cell_type": "code",
   "execution_count": 20,
   "metadata": {},
   "outputs": [
    {
     "name": "stdout",
     "output_type": "stream",
     "text": [
      "% of reviews with more than ... WORDS\n",
      "-------------------------------------\n",
      "0 -- 1.0\n",
      "100 -- 0.881\n",
      "200 -- 0.408\n",
      "300 -- 0.225\n",
      "400 -- 0.129\n",
      "500 -- 0.076\n",
      "600 -- 0.048\n",
      "700 -- 0.029\n",
      "800 -- 0.018\n",
      "900 -- 0.01\n",
      "1000 -- 0.002\n"
     ]
    }
   ],
   "source": [
    "print(\"% of reviews with more than ... WORDS\")\n",
    "print('-------------------------------------')\n",
    "for i in (np.linspace(start=0, stop=1000, num = 11)):\n",
    "    print(i.astype(int), '--', round((review_len_word > i).mean(), 3))"
   ]
  },
  {
   "cell_type": "markdown",
   "metadata": {},
   "source": [
    "Next, let's look into how many words we should include in our vocabulary dictionary.  We start by making a dataframe that holds each unique word and its number of occurences across all reviews."
   ]
  },
  {
   "cell_type": "code",
   "execution_count": 21,
   "metadata": {},
   "outputs": [],
   "source": [
    "# combine selected features into large list (with dupes)\n",
    "all_words = X_train_rnn.str.split(' ').sum()\n",
    "\n",
    "# apply counter to count # of occurences of each feature (while de-duping)\n",
    "word_cnt_dict = Counter(all_words)\n",
    "word_cnt_df = pd.DataFrame.from_dict(word_cnt_dict, orient='index').reset_index()"
   ]
  },
  {
   "cell_type": "markdown",
   "metadata": {},
   "source": [
    "Let's take a peek at the 10 most common words... all of our stop words, which makes sense."
   ]
  },
  {
   "cell_type": "code",
   "execution_count": 22,
   "metadata": {},
   "outputs": [
    {
     "data": {
      "text/html": [
       "<div>\n",
       "<style scoped>\n",
       "    .dataframe tbody tr th:only-of-type {\n",
       "        vertical-align: middle;\n",
       "    }\n",
       "\n",
       "    .dataframe tbody tr th {\n",
       "        vertical-align: top;\n",
       "    }\n",
       "\n",
       "    .dataframe thead th {\n",
       "        text-align: right;\n",
       "    }\n",
       "</style>\n",
       "<table border=\"1\" class=\"dataframe\">\n",
       "  <thead>\n",
       "    <tr style=\"text-align: right;\">\n",
       "      <th></th>\n",
       "      <th>index</th>\n",
       "      <th>0</th>\n",
       "    </tr>\n",
       "  </thead>\n",
       "  <tbody>\n",
       "    <tr>\n",
       "      <th>41</th>\n",
       "      <td>the</td>\n",
       "      <td>66637</td>\n",
       "    </tr>\n",
       "    <tr>\n",
       "      <th>59</th>\n",
       "      <td>and</td>\n",
       "      <td>32359</td>\n",
       "    </tr>\n",
       "    <tr>\n",
       "      <th>65</th>\n",
       "      <td>a</td>\n",
       "      <td>32324</td>\n",
       "    </tr>\n",
       "    <tr>\n",
       "      <th>70</th>\n",
       "      <td>of</td>\n",
       "      <td>29188</td>\n",
       "    </tr>\n",
       "    <tr>\n",
       "      <th>90</th>\n",
       "      <td>to</td>\n",
       "      <td>27115</td>\n",
       "    </tr>\n",
       "    <tr>\n",
       "      <th>35</th>\n",
       "      <td>is</td>\n",
       "      <td>21210</td>\n",
       "    </tr>\n",
       "    <tr>\n",
       "      <th>9</th>\n",
       "      <td>in</td>\n",
       "      <td>18219</td>\n",
       "    </tr>\n",
       "    <tr>\n",
       "      <th>86</th>\n",
       "      <td>it</td>\n",
       "      <td>15459</td>\n",
       "    </tr>\n",
       "    <tr>\n",
       "      <th>74</th>\n",
       "      <td>i</td>\n",
       "      <td>15413</td>\n",
       "    </tr>\n",
       "    <tr>\n",
       "      <th>0</th>\n",
       "      <td>this</td>\n",
       "      <td>15215</td>\n",
       "    </tr>\n",
       "  </tbody>\n",
       "</table>\n",
       "</div>"
      ],
      "text/plain": [
       "   index      0\n",
       "41   the  66637\n",
       "59   and  32359\n",
       "65     a  32324\n",
       "70    of  29188\n",
       "90    to  27115\n",
       "35    is  21210\n",
       "9     in  18219\n",
       "86    it  15459\n",
       "74     i  15413\n",
       "0   this  15215"
      ]
     },
     "execution_count": 22,
     "metadata": {},
     "output_type": "execute_result"
    }
   ],
   "source": [
    "word_cnt_df.nlargest(10, 0)"
   ]
  },
  {
   "cell_type": "markdown",
   "metadata": {},
   "source": [
    "And on the flip side, looking at a subset of the less common words (which only have 1 occurence), we do see these words are relatively specific."
   ]
  },
  {
   "cell_type": "code",
   "execution_count": 23,
   "metadata": {},
   "outputs": [
    {
     "data": {
      "text/html": [
       "<div>\n",
       "<style scoped>\n",
       "    .dataframe tbody tr th:only-of-type {\n",
       "        vertical-align: middle;\n",
       "    }\n",
       "\n",
       "    .dataframe tbody tr th {\n",
       "        vertical-align: top;\n",
       "    }\n",
       "\n",
       "    .dataframe thead th {\n",
       "        text-align: right;\n",
       "    }\n",
       "</style>\n",
       "<table border=\"1\" class=\"dataframe\">\n",
       "  <thead>\n",
       "    <tr style=\"text-align: right;\">\n",
       "      <th></th>\n",
       "      <th>index</th>\n",
       "      <th>0</th>\n",
       "    </tr>\n",
       "  </thead>\n",
       "  <tbody>\n",
       "    <tr>\n",
       "      <th>48</th>\n",
       "      <td>columbian</td>\n",
       "      <td>1</td>\n",
       "    </tr>\n",
       "    <tr>\n",
       "      <th>61</th>\n",
       "      <td>pseudolove</td>\n",
       "      <td>1</td>\n",
       "    </tr>\n",
       "    <tr>\n",
       "      <th>171</th>\n",
       "      <td>mountie</td>\n",
       "      <td>1</td>\n",
       "    </tr>\n",
       "    <tr>\n",
       "      <th>177</th>\n",
       "      <td>elect</td>\n",
       "      <td>1</td>\n",
       "    </tr>\n",
       "    <tr>\n",
       "      <th>181</th>\n",
       "      <td>enforce</td>\n",
       "      <td>1</td>\n",
       "    </tr>\n",
       "    <tr>\n",
       "      <th>207</th>\n",
       "      <td>westbr</td>\n",
       "      <td>1</td>\n",
       "    </tr>\n",
       "    <tr>\n",
       "      <th>250</th>\n",
       "      <td>paddle</td>\n",
       "      <td>1</td>\n",
       "    </tr>\n",
       "    <tr>\n",
       "      <th>346</th>\n",
       "      <td>barometers</td>\n",
       "      <td>1</td>\n",
       "    </tr>\n",
       "    <tr>\n",
       "      <th>359</th>\n",
       "      <td>microscopically</td>\n",
       "      <td>1</td>\n",
       "    </tr>\n",
       "    <tr>\n",
       "      <th>360</th>\n",
       "      <td>gradations</td>\n",
       "      <td>1</td>\n",
       "    </tr>\n",
       "  </tbody>\n",
       "</table>\n",
       "</div>"
      ],
      "text/plain": [
       "               index  0\n",
       "48         columbian  1\n",
       "61        pseudolove  1\n",
       "171          mountie  1\n",
       "177            elect  1\n",
       "181          enforce  1\n",
       "207           westbr  1\n",
       "250           paddle  1\n",
       "346       barometers  1\n",
       "359  microscopically  1\n",
       "360       gradations  1"
      ]
     },
     "execution_count": 23,
     "metadata": {},
     "output_type": "execute_result"
    }
   ],
   "source": [
    "word_cnt_df.nsmallest(10, 0)"
   ]
  },
  {
   "cell_type": "markdown",
   "metadata": {},
   "source": [
    "We see that in total, there are about 50,000 unique words across our reviews.  To prevent overfitting, we'll want to limit that (i.e. limit our dictionary size) before running it through a RNN model."
   ]
  },
  {
   "cell_type": "code",
   "execution_count": 24,
   "metadata": {},
   "outputs": [
    {
     "data": {
      "text/plain": [
       "49976"
      ]
     },
     "execution_count": 24,
     "metadata": {},
     "output_type": "execute_result"
    }
   ],
   "source": [
    "len(word_cnt_df)"
   ]
  },
  {
   "cell_type": "markdown",
   "metadata": {},
   "source": [
    "Let's take a closer look at the distribution of review words.  First, how many of the words (across all reviews) show up once, 5x, 10x, ... , etc?\n",
    "\n",
    "We can see that if we included only words that show up more than 50 times, our dictionary would be 2,000 words and we'd be capturing 4% of the unique words.\n",
    "\n",
    "We also see that the vast majority of words (78%) show up 5 times or less.  Our dictionary would need to hold 11,000 words to capture those words.\n",
    "\n",
    "This all seems a bit fuzzy, so let's take another look, but using a more \"dictionary-size\" centric view."
   ]
  },
  {
   "cell_type": "code",
   "execution_count": 25,
   "metadata": {},
   "outputs": [
    {
     "name": "stdout",
     "output_type": "stream",
     "text": [
      "% of unique words with more than ... OCCURENCES\n",
      "-------------------------------------\n",
      "0 -- 1.0 | 49976\n",
      "5 -- 0.22 | 10979\n",
      "10 -- 0.139 | 6942\n",
      "15 -- 0.103 | 5133\n",
      "20 -- 0.082 | 4110\n",
      "25 -- 0.069 | 3425\n",
      "30 -- 0.06 | 2974\n",
      "35 -- 0.053 | 2641\n",
      "40 -- 0.047 | 2365\n",
      "45 -- 0.043 | 2133\n",
      "50 -- 0.039 | 1950\n"
     ]
    }
   ],
   "source": [
    "print(\"% of unique words with more than ... OCCURENCES\")\n",
    "print('-------------------------------------')\n",
    "for i in (np.linspace(start=0, stop=50, num = 11)):\n",
    "    print(i.astype(int),\n",
    "          '--', \n",
    "          round(len(word_cnt_df[word_cnt_df[0] > i]) / len(word_cnt_df), 3),\n",
    "          '|', len(word_cnt_df[word_cnt_df[0] > i])\n",
    "         )"
   ]
  },
  {
   "cell_type": "markdown",
   "metadata": {},
   "source": [
    "We can also look to see how a dictionary of size 1K, 2K, ..., etc would capture both the number of *unique* words **and** the number of *total* words in our reviews.\n",
    "\n",
    "Based on this, we'll start out by keeping 3,000 words in our dictionary.  This will represent 80% of all words, even though it's only 6% of unique words!"
   ]
  },
  {
   "cell_type": "code",
   "execution_count": 26,
   "metadata": {},
   "outputs": [
    {
     "name": "stdout",
     "output_type": "stream",
     "text": [
      "% of words covered at each vocab size\n",
      "-------------------------------------\n",
      "dict_size | pct_unique | pct_total\n",
      "-------------------------------------\n",
      "0 | 0.0 | 0.0\n",
      "1000 | 0.02 | 0.659\n",
      "2000 | 0.04 | 0.741\n",
      "3000 | 0.06 | 0.788\n",
      "4000 | 0.08 | 0.819\n",
      "5000 | 0.1 | 0.843\n",
      "6000 | 0.12 | 0.861\n",
      "7000 | 0.14 | 0.874\n",
      "8000 | 0.16 | 0.885\n",
      "9000 | 0.18 | 0.895\n",
      "10000 | 0.2 | 0.903\n"
     ]
    }
   ],
   "source": [
    "print(\"% of words covered at each vocab size\")\n",
    "print('-------------------------------------')\n",
    "print('dict_size | pct_unique | pct_total')\n",
    "print('-------------------------------------')\n",
    "for i in (np.linspace(start=0, stop=10000, num = 11)):\n",
    "    print(i.astype(int),\n",
    "          '|', \n",
    "          round(i / len(word_cnt_df), 3),\n",
    "          '|',\n",
    "          round(word_cnt_df[:i.astype(int)][0].sum() / word_cnt_df[0].sum(), 3),\n",
    "         )"
   ]
  },
  {
   "cell_type": "markdown",
   "metadata": {},
   "source": [
    "Now that we've got a sense of the distribution of words across reviews, let's make a Tokenizer.\n",
    "\n",
    "This will allow us to convert specific words (those stored in our dictionary) into indices.  Based on the exploration above, we'll keep the most common 2,999 words (+1 \"unknown\" category for all other words)."
   ]
  },
  {
   "cell_type": "code",
   "execution_count": 27,
   "metadata": {},
   "outputs": [],
   "source": [
    "# Setup a vocab embedding\n",
    "max_vocab_size = 3000\n",
    "\n",
    "# Initialize our encoder - keep 2999 words (+\"unknown\")\n",
    "k_tokenizer = Tokenizer(num_words=max_vocab_size, oov_token='<unk>')\n",
    "\n",
    "# Fit our tokenizer\n",
    "k_tokenizer.fit_on_texts(X_train_rnn)\n",
    "\n",
    "# Convert to sequences\n",
    "X_train_seq = k_tokenizer.texts_to_sequences(X_train_rnn)\n",
    "X_valid_seq = k_tokenizer.texts_to_sequences(X_valid_rnn)\n",
    "X_test_seq = k_tokenizer.texts_to_sequences(X_test_rnn)"
   ]
  },
  {
   "cell_type": "markdown",
   "metadata": {},
   "source": [
    "Take a look at our first review to compare the original review to the tokenized review.  We see a fair amount of unknown tokens (1), but not *too* many."
   ]
  },
  {
   "cell_type": "code",
   "execution_count": 28,
   "metadata": {},
   "outputs": [
    {
     "name": "stdout",
     "output_type": "stream",
     "text": [
      "['this', 'was', 'an', 'absolutely', 'terrible', 'movie', 'dont', 'be', 'lured', 'in', 'by', 'christopher', 'walken', 'or', 'michael', 'ironside', 'both', 'are', 'great', 'actors', 'but', 'this', 'must', 'simply', 'be', 'their', 'worst', 'role', 'in', 'history', 'even', 'their', 'great', 'acting', 'could', 'not', 'redeem', 'this', 'movies', 'ridiculous', 'storyline', 'this', 'movie', 'is', 'an', 'early', 'nineties', 'us', 'propaganda', 'piece', 'the', 'most', 'pathetic', 'scenes', 'were', 'those', 'when', 'the', 'columbian', 'rebels', 'were', 'making', 'their', 'cases', 'for', 'revolutions', 'maria', 'conchita', 'alonso', 'appeared', 'phony', 'and', 'her', 'pseudolove', 'affair', 'with', 'walken', 'was', 'nothing', 'but', 'a', 'pathetic', 'emotional', 'plug', 'in', 'a', 'movie', 'that', 'was', 'devoid', 'of', 'any', 'real', 'meaning', 'i', 'am', 'disappointed', 'that', 'there', 'are', 'movies', 'like', 'this', 'ruining', 'actors', 'like', 'christopher', 'walkens', 'good', 'name', 'i', 'could', 'barely', 'sit', 'through', 'it']\n",
      "\n",
      " [11, 14, 35, 430, 388, 19, 89, 27, 1, 8, 33, 1215, 1, 41, 524, 1, 197, 25, 84, 164, 18, 11, 233, 328, 27, 67, 241, 203, 8, 459, 57, 67, 84, 112, 100, 22, 1, 11, 99, 704, 765, 11, 19, 7, 35, 386, 1, 181, 1984, 460, 2, 87, 1071, 142, 65, 150, 53, 2, 1, 1, 65, 256, 67, 2897, 17, 1, 2898, 1, 1, 1544, 1, 3, 40, 1, 1368, 16, 1, 14, 154, 18, 4, 1071, 804, 1, 8, 4, 19, 12, 14, 1, 5, 97, 146, 1180, 10, 213, 709, 12, 49, 25, 99, 39, 11, 1, 164, 39, 1215, 1, 50, 400, 10, 100, 1077, 831, 136, 9]\n"
     ]
    }
   ],
   "source": [
    "print(X_train_rnn[0].split())\n",
    "print('\\n', X_train_seq[0])"
   ]
  },
  {
   "cell_type": "markdown",
   "metadata": {},
   "source": [
    "And for simplicity, we can also compare the Tokenization of a much simpler string, too.  In this case, only `'snuffalufagus'` is unknown."
   ]
  },
  {
   "cell_type": "code",
   "execution_count": 29,
   "metadata": {},
   "outputs": [
    {
     "data": {
      "text/plain": [
       "[[10, 423, 11, 19, 38, 73, 1]]"
      ]
     },
     "execution_count": 29,
     "metadata": {},
     "output_type": "execute_result"
    }
   ],
   "source": [
    "example_review = 'i loved this movie so much snuffalufagus'\n",
    "\n",
    "# Test encoding-> Any unknown word should get mapped to '1'\n",
    "encoded_example = k_tokenizer.texts_to_sequences([example_review])\n",
    "encoded_example"
   ]
  },
  {
   "cell_type": "markdown",
   "metadata": {},
   "source": [
    "Now let's incorporate our exploration from earlier, setting the max review length at 100 and zero-padding reviews shorter than that."
   ]
  },
  {
   "cell_type": "code",
   "execution_count": 30,
   "metadata": {},
   "outputs": [],
   "source": [
    "max_sequence_len = 100\n",
    "\n",
    "# Add padding after sequences or cutoff to limit length.\n",
    "# Padding can be before or after sequence. We want to pad w/ zeros after.\n",
    "X_train_padded = pad_sequences(X_train_seq, padding='post', maxlen=max_sequence_len)\n",
    "X_valid_padded = pad_sequences(X_valid_seq, padding='post', maxlen=max_sequence_len)\n",
    "X_test_padded = pad_sequences(X_test_seq, padding='post', maxlen=max_sequence_len)"
   ]
  },
  {
   "cell_type": "markdown",
   "metadata": {},
   "source": [
    "Let's take a look at a couple of arbitrary review encodings.  This first one has a length of 100 and is pretty heavily padded with 0's."
   ]
  },
  {
   "cell_type": "code",
   "execution_count": 31,
   "metadata": {},
   "outputs": [
    {
     "name": "stdout",
     "output_type": "stream",
     "text": [
      "[ 620   57   43   24  169  911    1   11   19    7  364  679    2  142\n",
      "   16  321    1   98   59   17    1   29    5    2  284  777  248 2966\n",
      "   36    2  836 1172    1    1  156  111 1958    3    1  163  946    3\n",
      " 1063    3    9    7 1305  242    6  103    2 2740   25    2  110    0\n",
      "    0    0    0    0    0    0    0    0    0    0    0    0    0    0\n",
      "    0    0    0    0    0    0    0    0    0    0    0    0    0    0\n",
      "    0    0    0    0    0    0    0    0    0    0    0    0    0    0\n",
      "    0    0]\n",
      "(100,)\n"
     ]
    }
   ],
   "source": [
    "print(X_train_padded[404])\n",
    "print(X_train_padded[404].shape)"
   ]
  },
  {
   "cell_type": "markdown",
   "metadata": {},
   "source": [
    "This next one *also* has a length of 100, but we notice this one did *not* need to be zero-padded.  In fact, we likely cut off some of the review - even still, hopefully the first 100 words will be enough for the model to learn its sentiment."
   ]
  },
  {
   "cell_type": "code",
   "execution_count": 32,
   "metadata": {},
   "outputs": [
    {
     "name": "stdout",
     "output_type": "stream",
     "text": [
      "[   4  146  467 1705   29  264  267   33 1715    1   58   26  222  244\n",
      "   16 1967   41   17   12  548  253   37    7   22    4    1  467    8\n",
      "    2   77 1735  290    2  246    5   11 1286 2034    1  128  841   31\n",
      "  226  280  210    1    6  490 1979   13  369 2034    1    3   28    7\n",
      "   44    6  490 1967   53   24    1    9   28    7  333   33    1   13\n",
      "   38 1747   54    1    1    1    6 1139    6  201   41  264   28  137\n",
      "   72  300   16  524    1   37  549    2 1244  372    2 1109    3   98\n",
      "  732 1109]\n",
      "(100,)\n"
     ]
    }
   ],
   "source": [
    "print(X_train_padded[999])\n",
    "print(X_train_padded[999].shape)"
   ]
  },
  {
   "cell_type": "markdown",
   "metadata": {},
   "source": [
    "*FYI: reset RNN model if needed*"
   ]
  },
  {
   "cell_type": "code",
   "execution_count": 33,
   "metadata": {},
   "outputs": [],
   "source": [
    "# clear model (if necessary)\n",
    "tf.keras.backend.clear_session()"
   ]
  },
  {
   "cell_type": "markdown",
   "metadata": {},
   "source": [
    "Now we're ready to build a RNN model.  We start by adding an embedding layer with input dimensions matching the size of our dictionary (`3000`).\n",
    "\n",
    "We set our output dimension to size 8 to do our best to help with overfitting (the higher the dimension size, the more complexity can be modeled).\n",
    "\n",
    "Next we'll add an LSTM layer (long short term memory) to help control where hidden layers weights are updated and by how much. At this point we'll also add dropout (at a relatively high rate of 50%) to again try to help with overfitting.\n",
    "\n",
    "Lastly we'll add our output layer, with a single unit (since this is a binary problem)."
   ]
  },
  {
   "cell_type": "code",
   "execution_count": 34,
   "metadata": {},
   "outputs": [
    {
     "name": "stdout",
     "output_type": "stream",
     "text": [
      "Model: \"sequential\"\n",
      "_________________________________________________________________\n",
      "Layer (type)                 Output Shape              Param #   \n",
      "=================================================================\n",
      "embedding (Embedding)        (None, None, 8)           24000     \n",
      "_________________________________________________________________\n",
      "lstm (LSTM)                  (None, 64)                18688     \n",
      "_________________________________________________________________\n",
      "dropout (Dropout)            (None, 64)                0         \n",
      "_________________________________________________________________\n",
      "dense (Dense)                (None, 1)                 65        \n",
      "=================================================================\n",
      "Total params: 42,753\n",
      "Trainable params: 42,753\n",
      "Non-trainable params: 0\n",
      "_________________________________________________________________\n"
     ]
    }
   ],
   "source": [
    "# Initialize model\n",
    "rnn_model = tf.keras.Sequential()\n",
    "\n",
    "# Embedding layer w input dim size = 3000 (dictionary size)\n",
    "# output embedding dime size = 8\n",
    "rnn_model.add(layers.Embedding(input_dim=max_vocab_size, output_dim=8))\n",
    "\n",
    "# Add a LSTM layer with 64 internal units.\n",
    "rnn_model.add(layers.LSTM(64))\n",
    "rnn_model.add(Dropout(0.5))\n",
    "\n",
    "# Add a Dense layer with 1 unit.\n",
    "rnn_model.add(layers.Dense(1, activation='sigmoid'))\n",
    "\n",
    "rnn_model.summary()"
   ]
  },
  {
   "cell_type": "markdown",
   "metadata": {},
   "source": [
    "We'll initialize our optimizer outside of `model.fit()` so that we can specify the learning rate.  Since this is a binary problem, we'll use `BinaryCrossentropy` (as opposed to categorical)."
   ]
  },
  {
   "cell_type": "code",
   "execution_count": 35,
   "metadata": {},
   "outputs": [],
   "source": [
    "# initialize\n",
    "opt = tf.keras.optimizers.Adam(learning_rate=0.001)\n",
    "\n",
    "# compile\n",
    "rnn_model.compile(\n",
    "    loss = tf.keras.losses.BinaryCrossentropy(),\n",
    "    optimizer = opt,\n",
    "    metrics = [\"accuracy\"],\n",
    ")"
   ]
  },
  {
   "cell_type": "markdown",
   "metadata": {},
   "source": [
    "And fitting our model, we see decent learning ability.  It looks like the vast majority of learning happened in the ~5 epcohs, but we'll next define some functions to examine more closely."
   ]
  },
  {
   "cell_type": "code",
   "execution_count": 36,
   "metadata": {},
   "outputs": [
    {
     "name": "stdout",
     "output_type": "stream",
     "text": [
      "Epoch 1/15\n",
      "79/79 [==============================] - 4s 53ms/step - loss: 0.6929 - accuracy: 0.5046 - val_loss: 0.6921 - val_accuracy: 0.5120\n",
      "Epoch 2/15\n",
      "79/79 [==============================] - 4s 45ms/step - loss: 0.6844 - accuracy: 0.5698 - val_loss: 0.6728 - val_accuracy: 0.6700\n",
      "Epoch 3/15\n",
      "79/79 [==============================] - 4s 48ms/step - loss: 0.5137 - accuracy: 0.7700 - val_loss: 0.6141 - val_accuracy: 0.7440\n",
      "Epoch 4/15\n",
      "79/79 [==============================] - 4s 46ms/step - loss: 0.3766 - accuracy: 0.8438 - val_loss: 0.4808 - val_accuracy: 0.7700\n",
      "Epoch 5/15\n",
      "79/79 [==============================] - 4s 47ms/step - loss: 0.2869 - accuracy: 0.8896 - val_loss: 0.6201 - val_accuracy: 0.7520\n",
      "Epoch 6/15\n",
      "79/79 [==============================] - 4s 47ms/step - loss: 0.2449 - accuracy: 0.9144 - val_loss: 0.5349 - val_accuracy: 0.7740\n",
      "Epoch 7/15\n",
      "79/79 [==============================] - 4s 47ms/step - loss: 0.2007 - accuracy: 0.9290 - val_loss: 0.6617 - val_accuracy: 0.7580\n",
      "Epoch 8/15\n",
      "79/79 [==============================] - 4s 46ms/step - loss: 0.1642 - accuracy: 0.9476 - val_loss: 0.6021 - val_accuracy: 0.7480\n",
      "Epoch 9/15\n",
      "79/79 [==============================] - 4s 44ms/step - loss: 0.1440 - accuracy: 0.9554 - val_loss: 0.6441 - val_accuracy: 0.7420\n",
      "Epoch 10/15\n",
      "79/79 [==============================] - 4s 46ms/step - loss: 0.1236 - accuracy: 0.9650 - val_loss: 0.7237 - val_accuracy: 0.7440\n",
      "Epoch 11/15\n",
      "79/79 [==============================] - 4s 46ms/step - loss: 0.1223 - accuracy: 0.9612 - val_loss: 0.8085 - val_accuracy: 0.7380\n",
      "Epoch 12/15\n",
      "79/79 [==============================] - 4s 47ms/step - loss: 0.1114 - accuracy: 0.9668 - val_loss: 0.9009 - val_accuracy: 0.7380\n",
      "Epoch 13/15\n",
      "79/79 [==============================] - 4s 45ms/step - loss: 0.0964 - accuracy: 0.9724 - val_loss: 0.8374 - val_accuracy: 0.7320\n",
      "Epoch 14/15\n",
      "79/79 [==============================] - 4s 46ms/step - loss: 0.0819 - accuracy: 0.9764 - val_loss: 0.8333 - val_accuracy: 0.7440\n",
      "Epoch 15/15\n",
      "79/79 [==============================] - 4s 46ms/step - loss: 0.0729 - accuracy: 0.9818 - val_loss: 0.9322 - val_accuracy: 0.7300\n"
     ]
    }
   ],
   "source": [
    "# fit model\n",
    "model_logs = rnn_model.fit(X_train_padded, y_train_rnn,\n",
    "                           validation_data=(X_valid_padded, y_valid_rnn),\n",
    "                           batch_size=64,\n",
    "                           epochs=15)"
   ]
  },
  {
   "cell_type": "markdown",
   "metadata": {},
   "source": [
    "This function will help visualize how the neural network is learning over each epoch. We'll also report out how the final epoch performed on the validation set."
   ]
  },
  {
   "cell_type": "code",
   "execution_count": 37,
   "metadata": {},
   "outputs": [],
   "source": [
    "def model_plots(model, test_set=\"Test\"):\n",
    "\n",
    "    # cnt of epochs\n",
    "    epochs = len(model.history['accuracy'])\n",
    "    final_valid_acc = model.history['val_accuracy'][epochs-1]\n",
    "    final_valid_loss = model.history['val_loss'][epochs-1]\n",
    "    \n",
    "    # set figure, axis properties\n",
    "    fig, ax = plt.subplots(ncols = 2, nrows = 1)\n",
    "    fig.set_size_inches(16, 4)\n",
    "    fig.tight_layout(h_pad = 6, w_pad = 12)\n",
    "\n",
    "    # make accuracy plot\n",
    "    sns.lineplot(x = range(1, epochs + 1), y = model.history['accuracy'], ax = ax[0], label = \"Train\");\n",
    "    sns.lineplot(x = range(1, epochs + 1), y = model.history['val_accuracy'], ax = ax[0], label = test_set);\n",
    "    ax[0].title.set_text('Model Accuracy');\n",
    "    ax[0].xaxis.set_major_locator(MaxNLocator(integer=True))\n",
    "    ax[0].set_xlabel('Epochs')\n",
    "    ax[0].legend();\n",
    "    \n",
    "    # make loss plot\n",
    "    sns.lineplot(x = range(1, epochs + 1), y = model.history['loss'], ax = ax[1], label = \"Train\");\n",
    "    sns.lineplot(x = range(1, epochs + 1), y = model.history['val_loss'], ax = ax[1], label = test_set);\n",
    "    ax[1].title.set_text('Model Loss');\n",
    "    ax[1].xaxis.set_major_locator(MaxNLocator(integer=True))\n",
    "    ax[1].set_xlabel('Epochs')\n",
    "    ax[1].legend();\n",
    "    \n",
    "    # print final stats\n",
    "    print('\\n', test_set, 'Accuracy:', round(final_valid_acc, 3),'\\n', test_set, 'Loss:', round(final_valid_loss, 3))"
   ]
  },
  {
   "cell_type": "markdown",
   "metadata": {},
   "source": [
    "In our model, we see a pretty large gap open up between the accuracy/loss metrics on the Train data vs. the Validation data around the 4th epoch.\n",
    "\n",
    "We took several steps to try to regularize our data (e.g. smaller output dimensions, smaller sequence lengths, high dropout), but still yet this appears to be a problem that would need to be addressed further."
   ]
  },
  {
   "cell_type": "code",
   "execution_count": 38,
   "metadata": {},
   "outputs": [
    {
     "name": "stdout",
     "output_type": "stream",
     "text": [
      "\n",
      " Validation Accuracy: 0.73 \n",
      " Validation Loss: 0.932\n"
     ]
    },
    {
     "data": {
      "image/png": "[encoded data removed]",
      "text/plain": [
       "<Figure size 1152x288 with 2 Axes>"
      ]
     },
     "metadata": {
      "needs_background": "light"
     },
     "output_type": "display_data"
    }
   ],
   "source": [
    "model_plots(model_logs, test_set=\"Validation\")"
   ]
  },
  {
   "cell_type": "markdown",
   "metadata": {},
   "source": [
    "Now let's calculate accuracy on all 3 datasets for a final comparison.  We see almost perfect accuracy on the train data (99%) and about 79% accuracy on the test data."
   ]
  },
  {
   "cell_type": "code",
   "execution_count": 39,
   "metadata": {
    "scrolled": true
   },
   "outputs": [
    {
     "name": "stdout",
     "output_type": "stream",
     "text": [
      "Train acc: 0.989\n",
      "Valid acc: 0.730\n",
      "Test acc: 0.790\n"
     ]
    }
   ],
   "source": [
    "# Calculate accuracies (Takes 15-20 seconds to evaluate.)\n",
    "from sklearn.metrics import accuracy_score\n",
    "\n",
    "train_preds = rnn_model.predict(X_train_padded)\n",
    "valid_preds = rnn_model.predict(X_valid_padded)\n",
    "test_preds = rnn_model.predict(X_test_padded)\n",
    "\n",
    "train_acc = accuracy_score(np.round(np.squeeze(train_preds)), y_train_rnn)\n",
    "valid_acc = accuracy_score(np.round(np.squeeze(valid_preds)), y_valid_rnn)\n",
    "test_acc = accuracy_score(np.round(np.squeeze(test_preds)), y_test_rnn)\n",
    "\n",
    "print('Train acc: {:.3f}'.format(train_acc))\n",
    "print('Valid acc: {:.3f}'.format(valid_acc))\n",
    "print('Test acc: {:.3f}'.format(test_acc))"
   ]
  },
  {
   "cell_type": "markdown",
   "metadata": {},
   "source": [
    "### Findings\n",
    "\n",
    "In summary, through both a rule-based approach and a RNN model, we were able to make reasonable predictions on the sentiment of a review.\n",
    "\n",
    "The rule-based approach is easily understandable and yielded an accuracy of 73% on the test set, while the (much more complex) RNN model, improved our test set accuracy up to 79%.\n",
    "\n",
    "Moving to a more complicated model did yield modest benefits (+6% accuracy), however depending on the use case for this model it may not be worth the added complexity.\n",
    "\n",
    "In our case, chat bot deployment is probably OK to use the RNN model even though predictions may require an extra second or so to respond to the user (vs the rule-based approach, which is a bit quicker)."
   ]
  }
 ],
 "metadata": {
  "kernelspec": {
   "display_name": "Python 3",
   "language": "python",
   "name": "python3"
  },
  "language_info": {
   "codemirror_mode": {
    "name": "ipython",
    "version": 3
   },
   "file_extension": ".py",
   "mimetype": "text/x-python",
   "name": "python",
   "nbconvert_exporter": "python",
   "pygments_lexer": "ipython3",
   "version": "3.6.10"
  }
 },
 "nbformat": 4,
 "nbformat_minor": 4
}
